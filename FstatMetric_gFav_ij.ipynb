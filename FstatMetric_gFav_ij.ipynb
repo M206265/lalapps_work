{
 "cells": [
  {
   "cell_type": "code",
   "execution_count": 108,
   "metadata": {},
   "outputs": [],
   "source": [
    "import numpy as np\n",
    "import matplotlib.pyplot as plt\n",
    "import io\n",
    "import glob\n",
    "\n",
    "obj = 'Crab'\n",
    "run = 'O2_1'\n",
    "path_objData = '/home/m206265/lalapps_work/data/'+obj+'Data.dat'\n",
    "pathMetric = '/home/m206265/lalapps_work/FstatMetric.txt'\n",
    "pathTimeStampsH1 = '/home/m206265/lalapps_work/data/'+run+'_H1_tslist.txt'\n",
    "pathTimeStampsL1 = '/home/m206265/lalapps_work/data/'+run+'_L1_tslist.txt'\n"
   ]
  },
  {
   "cell_type": "code",
   "execution_count": 109,
   "metadata": {},
   "outputs": [
    {
     "name": "stdout",
     "output_type": "stream",
     "text": [
      "[[ 1.03949943e+14 -9.86745009e+19  1.28943991e+26]\n",
      " [-9.86745009e+19  1.48404767e+26 -1.74367490e+32]\n",
      " [ 1.28943991e+26 -1.74367490e+32  2.21636592e+38]]\n"
     ]
    }
   ],
   "source": [
    "file = io.BytesIO(open(pathMetric, 'rb').read().replace(b';',b','))\n",
    "gFav = np.genfromtxt(file, skip_header = 40, max_rows = 3, delimiter = ',', usecols = (0,1,2)) # Metric of frequency space\n",
    "print(gFav)"
   ]
  },
  {
   "cell_type": "code",
   "execution_count": 110,
   "metadata": {},
   "outputs": [],
   "source": [
    "TimeStampsH1 = np.genfromtxt(pathTimeStampsH1)\n",
    "TimeStampsL1 = np.genfromtxt(pathTimeStampsL1)\n",
    "TimeStampsL1H1 = np.concatenate((TimeStampsH1, TimeStampsL1))\n",
    "\n",
    "Tstart = min(TimeStampsL1H1)\n",
    "Tend = max(TimeStampsL1H1)\n",
    "T_obs = (Tend - Tstart)+1800\n",
    "\n",
    " # Template grid\n",
    "df = 1/T_obs  \n",
    "d1f = 1/T_obs**2\n",
    "d2f = 1/T_obs**3\n",
    "\n",
    " # Offsets\n",
    "dL = 0.5*df\n",
    "d1L = 0.5*d1f\n",
    "d2L = 0.5*d2f\n"
   ]
  },
  {
   "cell_type": "markdown",
   "metadata": {},
   "source": [
    " $$ Mismatch: m(\\Delta\\lambda, \\lambda_{sign}) = \\frac{\\rho^2(0) - \\rho^2(\\Delta\\lambda)}{\\rho^2(0)} $$"
   ]
  },
  {
   "cell_type": "code",
   "execution_count": 111,
   "metadata": {},
   "outputs": [],
   "source": [
    "def MismMetrFun(gFav, dL, d1L, d2L):\n",
    "    MismMetr = gFav[0,0]*dL**2 + gFav[0,1]*dL*d1L + gFav[0,2]*dL*d2L + gFav[1,0]*d1L*dL+ \\\n",
    "      + gFav[1,1]*d1L**2 + gFav[1,2]*d1L*d2L + gFav[2,0]*d2L*dL + gFav[2,1]*d2L*d1L + gFav[2,2]*d2L**2\n",
    "    return(MismMetr)\n",
    "\n",
    "def MismMetr_diagFun(gFav, dL, d1L, d2L):\n",
    "    MismMetr_diag = gFav[0,0]*dL**2 + gFav[1,1]*d1L**2 + gFav[2,2]*d2L**2\n",
    "    return(MismMetr_diag)"
   ]
  },
  {
   "cell_type": "code",
   "execution_count": 112,
   "metadata": {},
   "outputs": [
    {
     "name": "stdout",
     "output_type": "stream",
     "text": [
      "0.6305052457211808\n",
      "0.8580355888917752\n"
     ]
    }
   ],
   "source": [
    "MismMetr = MismMetrFun(gFav, dL, d1L, d2L)\n",
    "MismMetr_diag = MismMetr_diagFun(gFav, dL, d1L, d2L)\n",
    "\n",
    "print(MismMetr)\n",
    "print(MismMetr_diag)"
   ]
  },
  {
   "cell_type": "code",
   "execution_count": 114,
   "metadata": {},
   "outputs": [
    {
     "data": {
      "image/png": "[encoded data removed]",
      "text/plain": [
       "<Figure size 432x288 with 1 Axes>"
      ]
     },
     "metadata": {
      "needs_background": "light"
     },
     "output_type": "display_data"
    }
   ],
   "source": [
    "fig, ax = plt.subplots(1,1)\n",
    "\n",
    "offset = np.arange(0, 1, 0.01)\n",
    "MismMetr_diagf = MismMetr_diagFun(gFav, offset*df, 0, 0)\n",
    "ax.plot(offset, MismMetr_diagf, '.', label = 'Mismatch F')\n",
    "\n",
    "MismMetr_diagf1 = MismMetr_diagFun(gFav, 0, offset*d1f, 0)\n",
    "ax.plot(offset, MismMetr_diagf1, '.', label = 'Mismatch F1')\n",
    "\n",
    "MismMetr_diagf2 = MismMetr_diagFun(gFav, 0, 0, offset*d2f)\n",
    "ax.plot(offset, MismMetr_diagf2, '.', label = 'Mismatch F2')\n",
    "\n",
    "#ax.plot(offset, gFav[0,0]*(offset*df)**2, 'k.')\n",
    "\n",
    "ax.set_ylabel('Mismatch metric')\n",
    "ax.set_xlabel('Offset')\n",
    "plt.legend()\n",
    "plt.grid()\n",
    "plt.show()"
   ]
  },
  {
   "cell_type": "markdown",
   "metadata": {},
   "source": [
    "We want to set the grid so mismatch in df, d1f and d2f will change similarly due to number of templates"
   ]
  },
  {
   "cell_type": "code",
   "execution_count": 115,
   "metadata": {},
   "outputs": [
    {
     "data": {
      "image/png": "[encoded data removed]",
      "text/plain": [
       "<Figure size 432x288 with 1 Axes>"
      ]
     },
     "metadata": {
      "needs_background": "light"
     },
     "output_type": "display_data"
    }
   ],
   "source": [
    "fig, ax = plt.subplots(1,1)\n",
    "\n",
    "offset = np.arange(0, 0.7, 0.01)\n",
    "MismMetr_diagf = MismMetr_diagFun(gFav, offset*df, 0, 0)\n",
    "ax.plot(offset*df*np.sqrt(gFav[0,0]), MismMetr_diagf, '.', label = 'Mismatch F')\n",
    "\n",
    "MismMetr_diagf1 = MismMetr_diagFun(gFav, 0, offset*d1f, 0)\n",
    "ax.plot(offset*d1f*np.sqrt(gFav[1,1]), MismMetr_diagf1, '.', label = 'Mismatch F1')\n",
    "\n",
    "MismMetr_diagf2 = MismMetr_diagFun(gFav, 0, 0, offset*d2f)\n",
    "ax.plot(offset*np.sqrt(gFav[2,2])*d2f, MismMetr_diagf2, '.', label = 'Mismatch F2')\n",
    "\n",
    "ax.plot(offset*df*np.sqrt(gFav[0,0]),np.ones(len(offset)), label = 'Mismatch = 1.0')\n",
    "ax.set_xlabel(r'Offset $\\Delta\\lambda_i*\\sqrt{g_{ii}}$')\n",
    "ax.set_ylabel('Mismatch metric')\n",
    "ax.grid()\n",
    "ax.legend()\n",
    "plt.show()"
   ]
  },
  {
   "cell_type": "markdown",
   "metadata": {},
   "source": [
    "# Set up template grid from the metric"
   ]
  },
  {
   "cell_type": "code",
   "execution_count": 126,
   "metadata": {},
   "outputs": [
    {
     "name": "stdout",
     "output_type": "stream",
     "text": [
      "Df/df, D1f/d1f, D2f/d2f\n",
      "0.1562297511823196 0.7363475009850411 3.3932580368782825\n"
     ]
    }
   ],
   "source": [
    "# Target total mismatch\n",
    "Mmetric = 0.06\n",
    "Df = 2*np.sqrt(Mmetric/3/gFav[0,0])\n",
    "D1f = 2*np.sqrt(Mmetric/3/gFav[1,1])\n",
    "D2f = 2*np.sqrt(Mmetric/3/gFav[2,2])\n",
    "\n",
    "print('Df/df, D1f/d1f, D2f/d2f')\n",
    "#print(Df, D1f, D2f)\n",
    "print(Df/df, D1f/d1f, D2f/d2f)"
   ]
  },
  {
   "cell_type": "code",
   "execution_count": 127,
   "metadata": {},
   "outputs": [
    {
     "data": {
      "image/png": "[encoded data removed]",
      "text/plain": [
       "<Figure size 432x288 with 1 Axes>"
      ]
     },
     "metadata": {
      "needs_background": "light"
     },
     "output_type": "display_data"
    }
   ],
   "source": [
    "fig, ax = plt.subplots(1,1)\n",
    "\n",
    "offset = np.arange(0, 0.5, 0.01)\n",
    "MismMetr_diagf = MismMetr_diagFun(gFav, offset*Df, 0, 0)\n",
    "ax.plot(offset*Df*np.sqrt(gFav[0,0]), MismMetr_diagf, '--', label = 'Mismatch F')\n",
    "\n",
    "MismMetr_diagf1 = MismMetr_diagFun(gFav, 0, offset*D1f, 0)\n",
    "ax.plot(offset*D1f*np.sqrt(gFav[1,1]), MismMetr_diagf1, '-', label = 'Mismatch F1')\n",
    "\n",
    "MismMetr_diagf2 = MismMetr_diagFun(gFav, 0, 0, offset*D2f)\n",
    "ax.plot(offset*np.sqrt(gFav[2,2])*D2f, MismMetr_diagf2, '-', label = 'Mismatch F2')\n",
    "\n",
    "#ax.plot(offset*Df*np.sqrt(gFav[0,0]),np.ones(len(offset)))\n",
    "ax.set_xlabel(r'Offset $\\Delta\\lambda_i*\\sqrt{g_{ii}}$')\n",
    "ax.set_ylabel('Mismatch metric')\n",
    "ax.grid()\n",
    "ax.legend()\n",
    "plt.show()"
   ]
  },
  {
   "cell_type": "code",
   "execution_count": 118,
   "metadata": {},
   "outputs": [
    {
     "name": "stdout",
     "output_type": "stream",
     "text": [
      "mism= 1.2\n",
      "fBand= 1.0744309145329032e-07 f1Band= 8.992215309216615e-14 f2Band= 7.358171253756612e-20\n",
      "Ntempl in f= 12.247448713915889 Ntempl in f1d= 12.24744871391589 Ntempl in f2d= 12.247448713915889\n",
      "Df= 8.772691681591654e-09 Df1= 7.34211305494132e-15 Df2= 7.34211305494132e-15\n"
     ]
    }
   ],
   "source": [
    "fBand = np.sqrt(1.2/gFav[0,0])\n",
    "f1Band = np.sqrt(1.2/gFav[1,1])\n",
    "f2Band = np.sqrt(1.2/gFav[2,2])\n",
    "mism = gFav[0,0]*(fBand)**2\n",
    "print('mism=', mism)\n",
    "print('fBand=', fBand, 'f1Band=', f1Band, 'f2Band=', f2Band)\n",
    "print('Ntempl in f=', fBand/Df, 'Ntempl in f1d=',f1Band/D1f, 'Ntempl in f2d=', f2Band/D2f)\n",
    "print('Df=', Df, 'Df1=', D1f, 'Df2=', D1f)\n",
    "\n",
    "#SNR_perfmatched = np.genfromtxt('/home/m206265/lalapps_work/Fstat_nonoise_perfmatched.txt', comments = '%') # rho^2(0)\n",
    "SNR_offsets = np.genfromtxt('/home/m206265/lalapps_work/SNR_offsets.txt',  comments = '%')\n",
    "\n",
    "SNR = SNR_offsets[:,6]\n",
    "f = SNR_offsets[:,0]\n",
    "f1d = SNR_offsets[:,3]\n",
    "f2d = SNR_offsets[:,4]\n",
    "\n",
    "f0_inj = f[0]\n",
    "f1d_inj = f1d[0]\n",
    "f2d_inj = f2d[0]\n",
    "\n",
    "indf0_inj = np.where(f==f0_inj)\n",
    "indf1d_inj = np.where(f1d==f1d_inj)\n",
    "indf2d_inj = np.where(f2d==f2d_inj)\n",
    "\n",
    "ind_intersect = np.intersect1d(indf1d_inj, indf2d_inj)\n",
    "f_fixed_inj = f[ind_intersect]\n"
   ]
  },
  {
   "cell_type": "code",
   "execution_count": 119,
   "metadata": {},
   "outputs": [
    {
     "data": {
      "image/png": "[encoded data removed]",
      "text/plain": [
       "<Figure size 432x288 with 1 Axes>"
      ]
     },
     "metadata": {
      "needs_background": "light"
     },
     "output_type": "display_data"
    }
   ],
   "source": [
    "fig, ax = plt.subplots(1,1)\n",
    "# Offset in frequency only\n",
    "ind_intersect = np.intersect1d(indf1d_inj, indf2d_inj)\n",
    "ind_intersectf1d = np.intersect1d(indf0_inj, indf2d_inj)\n",
    "ind_intersectf2d = np.intersect1d(indf0_inj, indf1d_inj)\n",
    "\n",
    "f_fixed_inj = f[ind_intersect]\n",
    "f1d_fixed_inj = f1d[ind_intersectf1d]\n",
    "f2d_fixed_inj = f2d[ind_intersectf2d]\n",
    "\n",
    "mismatch = (SNR[0] - SNR[ind_intersect])/SNR[0]\n",
    "mismatch_f1d = (SNR[0] - SNR[ind_intersectf1d])/SNR[0]\n",
    "mismatch_f2d = (SNR[0] - SNR[ind_intersectf2d])/SNR[0]\n",
    "\n",
    "offset = np.arange(0, len(ind_intersect), 1)\n",
    "MismMetr_diagf = MismMetr_diagFun(gFav, offset*Df, 0, 0)\n",
    "ax.plot(offset*Df*np.sqrt(gFav[0,0]), MismMetr_diagf, '.-', label = 'Metric Mismatch F')\n",
    "\n",
    "ax.plot((f_fixed_inj-f0_inj)*np.sqrt(gFav[0,0]), mismatch, '.', label = ' Calculated Mismatch')\n",
    "ax.plot((f1d_fixed_inj-f1d_inj)*np.sqrt(gFav[1,1]), mismatch_f1d, '.', label = ' Calculated Mismatch f1d')\n",
    "ax.plot((f2d_fixed_inj-f2d_inj)*np.sqrt(gFav[2,2]), mismatch_f2d, '.', label = ' Calculated Mismatch f2d')\n",
    "\n",
    "#ax.plot(offset*Df*np.sqrt(gFav[0,0]),np.ones(len(offset)))\n",
    "ax.set_xlabel(r'Offset $\\Delta\\lambda_i*\\sqrt{g_{ii}}$')\n",
    "ax.set_ylabel('Mismatch metric')\n",
    "ax.grid()\n",
    "ax.legend()\n",
    "ax.set_yscale('log')\n",
    "ax.set_xscale('log')\n",
    "plt.show()"
   ]
  },
  {
   "cell_type": "code",
   "execution_count": 128,
   "metadata": {},
   "outputs": [],
   "source": [
    "filenames06 = glob.glob('/home/m206265/lalapps_work/mismatchNewGrid/SNR_GridLoud_mism06*.txt')\n",
    "data06 = np.array([np.genfromtxt(fname=f, comments = '%') for f in filenames06])\n",
    "filenames20 = glob.glob('/home/m206265/lalapps_work/mismatchNewGrid/SNR_GridLoud_mism20*.txt')\n",
    "data20 = np.array([np.loadtxt(fname=f, comments = '%') for f in filenames20])\n",
    "filenames01 = glob.glob('/home/m206265/lalapps_work/mismatchNewGrid/SNR_GridLoud_mism01*.txt')\n",
    "data01 = np.array([np.loadtxt(fname=f, comments = '%') for f in filenames01])\n",
    "filenames001 = glob.glob('/home/m206265/lalapps_work/mismatchNewGrid/SNR_GridLoud_mism001*.txt')\n",
    "data001 = np.array([np.loadtxt(fname=f, comments = '%') for f in filenames001])\n",
    "\n",
    "\n",
    "result06 = data06[:,[0,3,4,6]]\n",
    "result01 = data01[:,[0,3,4,6]]\n",
    "result20 = data20[:,[0,3,4,6]]\n",
    "result001 = data001[:,[0,3,4,6]]"
   ]
  },
  {
   "cell_type": "code",
   "execution_count": 129,
   "metadata": {},
   "outputs": [
    {
     "data": {
      "image/png": "[encoded data removed]",
      "text/plain": [
       "<Figure size 432x288 with 1 Axes>"
      ]
     },
     "metadata": {
      "needs_background": "light"
     },
     "output_type": "display_data"
    }
   ],
   "source": [
    "fig, ax1 = plt.subplots(1,1)\n",
    "mismatch06 = (SNR[0] - result06[:, 3])/SNR[0]\n",
    "mismatch20 = (SNR[0] - result20[:, 3])/SNR[0]\n",
    "mismatch01 = (SNR[0] - result01[:, 3])/SNR[0]\n",
    "mismatch001 = (SNR[0] - result001[:, 3])/SNR[0]\n",
    "\n",
    "ax1.hist(mismatch06)\n",
    "plt.title('Distribution of mismatch (6%)')\n",
    "plt.show()"
   ]
  },
  {
   "cell_type": "code",
   "execution_count": 130,
   "metadata": {},
   "outputs": [
    {
     "name": "stdout",
     "output_type": "stream",
     "text": [
      "mismatch = 6%: 0.0076233571509210975\n",
      "mismatch = 20%: 0.013928583582682261\n",
      "mismatch = 1%: 0.0011540017842011593\n",
      "mismatch = 0.1%: 0.00011520660029475773\n"
     ]
    }
   ],
   "source": [
    "MismComp_mean06 = np.mean(mismatch06)\n",
    "print('mismatch = 6%:', MismComp_mean06)\n",
    "MismComp_mean20 = np.mean(mismatch20)\n",
    "print('mismatch = 20%:',MismComp_mean20)\n",
    "MismComp_mean01 = np.mean(mismatch01)\n",
    "print('mismatch = 1%:',MismComp_mean01)\n",
    "MismComp_mean001 = np.mean(mismatch001)\n",
    "print('mismatch = 0.1%:',MismComp_mean001)"
   ]
  },
  {
   "cell_type": "code",
   "execution_count": 131,
   "metadata": {},
   "outputs": [
    {
     "name": "stdout",
     "output_type": "stream",
     "text": [
      "0.1293871073343988\n"
     ]
    },
    {
     "data": {
      "image/png": "[encoded data removed]",
      "text/plain": [
       "<Figure size 432x288 with 1 Axes>"
      ]
     },
     "metadata": {
      "needs_background": "light"
     },
     "output_type": "display_data"
    }
   ],
   "source": [
    "fig, ax = plt.subplots(1,1)\n",
    "MismComp_mean = np.array([MismComp_mean001,MismComp_mean01, MismComp_mean06, MismComp_mean20])\n",
    "MismTarg = np.array([0.001, 0.01, 0.06, 0.2])\n",
    "incl = (MismComp_mean06-MismComp_mean01)/(0.06-0.01)\n",
    "x = np.arange(0, 0.2, 0.001)\n",
    "\n",
    "ax.plot(MismTarg,MismComp_mean, '.')\n",
    "ax.plot(x, (x-0.01)*incl+MismComp_mean01)\n",
    "\n",
    "print(incl)\n",
    "plt.grid()\n",
    "plt.show()"
   ]
  },
  {
   "cell_type": "markdown",
   "metadata": {},
   "source": [
    "## Modified grid"
   ]
  },
  {
   "cell_type": "markdown",
   "metadata": {},
   "source": [
    "Let's modify our grid and increase offsets by K times - grid will be more scarce"
   ]
  },
  {
   "cell_type": "markdown",
   "metadata": {},
   "source": [
    "$\n",
    "d\\lambda^i (m^l_*, \\tau_{obs}) = \\frac{1}{K} \\delta f^*_{mtr}(m^{diag}_{mtr}=m^l_*, \\tau_{obs}) \\\\\n",
    "K = \\frac{\\delta f}{d \\lambda^i} = \\frac{\\sqrt{0.06}}{\\sqrt{m_{meas}}}\n",
    "$"
   ]
  },
  {
   "cell_type": "code",
   "execution_count": 132,
   "metadata": {},
   "outputs": [
    {
     "name": "stdout",
     "output_type": "stream",
     "text": [
      "2.8054497345054985\n",
      "7.78279082163501e-08\n"
     ]
    }
   ],
   "source": [
    "K = np.sqrt(0.06)/np.sqrt(MismComp_mean06) # coefficient to a new grid\n",
    "print(K)\n",
    "\n",
    "dl = K*Df\n",
    "d1l = K*D1f\n",
    "d2l = K*D2f\n",
    "\n",
    "print(dl)\n",
    "#print(np.sqrt(MismComp_mean20)/np.sqrt(0.2))"
   ]
  },
  {
   "cell_type": "code",
   "execution_count": 133,
   "metadata": {},
   "outputs": [
    {
     "data": {
      "image/png": "[encoded data removed]",
      "text/plain": [
       "<Figure size 720x360 with 2 Axes>"
      ]
     },
     "metadata": {
      "needs_background": "light"
     },
     "output_type": "display_data"
    }
   ],
   "source": [
    "fig, (ax, ax2) = plt.subplots(figsize = (10,5), nrows = 1, ncols =2)\n",
    "\n",
    "Mmetric = 0.06\n",
    "Df = 2*np.sqrt(Mmetric/3/gFav[0,0])\n",
    "D1f = 2*np.sqrt(Mmetric/3/gFav[1,1])\n",
    "D2f = 2*np.sqrt(Mmetric/3/gFav[2,2])\n",
    "\n",
    "offsets_f0 = (result06[:, 0]-f0_inj)/Df\n",
    "ax.hist(offsets_f0, bins = 5, histtype = 'step', label = 'Offsets f')\n",
    "\n",
    "offsets_f1 = (result06[:,1]-f1d_inj)/D1f\n",
    "ax.hist(offsets_f1, bins = 5, histtype = 'step', label = 'Offsets f1d')\n",
    "\n",
    "offsets_f2 = (result06[:, 2]-f2d_inj)/D2f\n",
    "ax.hist(offsets_f2, bins = 5,histtype =  'step', label = 'Offsets f2d')\n",
    "\n",
    "offsets = np.sqrt(offsets_f0**2+offsets_f1**2+offsets_f2**2)\n",
    "ax2.hist(offsets, bins = 5, histtype = 'step', label = 'Offsets all')\n",
    "\n",
    "ax.legend()\n",
    "ax2.legend()\n",
    "ax.grid()\n",
    "ax2.grid()\n",
    "plt.show()\n",
    "#print(result06[:, 0])\n",
    "#print(offsets)"
   ]
  },
  {
   "cell_type": "code",
   "execution_count": 134,
   "metadata": {},
   "outputs": [
    {
     "name": "stdout",
     "output_type": "stream",
     "text": [
      "2.8054497345054985\n"
     ]
    }
   ],
   "source": [
    "K = np.sqrt(0.06)/np.sqrt(MismComp_mean06) # coefficient to a new grid\n",
    "print(K)\n",
    "\n",
    "dl = K*Df\n",
    "d1l = K*D1f\n",
    "d2l = K*D2f"
   ]
  },
  {
   "cell_type": "code",
   "execution_count": 135,
   "metadata": {},
   "outputs": [
    {
     "name": "stdout",
     "output_type": "stream",
     "text": [
      "mismatch_modif = 6%: 0.05700292694561476\n"
     ]
    }
   ],
   "source": [
    "filenames06_modif = glob.glob('/home/m206265/lalapps_work/mismatchNewGrid/SNR_GridLoud_modif06*.txt')\n",
    "data06_modif = np.array([np.loadtxt(fname=f, comments = '%') for f in filenames06_modif])\n",
    "\n",
    "result06_modif = data06_modif[:,[0,3,4,6]]\n",
    "mismatch06_modif = (SNR[0] - result06_modif[:, 3])/SNR[0]\n",
    "MismComp_mean06_modif = np.mean(mismatch06_modif)\n",
    "\n",
    "print('mismatch_modif = 6%:', MismComp_mean06_modif)"
   ]
  },
  {
   "cell_type": "code",
   "execution_count": 136,
   "metadata": {},
   "outputs": [
    {
     "data": {
      "text/plain": [
       "(array([ 4.,  6., 16., 23., 17.,  8., 12.,  2., 10.,  2.]),\n",
       " array([0.07058446, 0.18517991, 0.29977537, 0.41437082, 0.52896628,\n",
       "        0.64356174, 0.75815719, 0.87275265, 0.9873481 , 1.10194356,\n",
       "        1.21653902]),\n",
       " <BarContainer object of 10 artists>)"
      ]
     },
     "execution_count": 136,
     "metadata": {},
     "output_type": "execute_result"
    },
    {
     "data": {
      "image/png": "[encoded data removed]",
      "text/plain": [
       "<Figure size 720x360 with 4 Axes>"
      ]
     },
     "metadata": {
      "needs_background": "light"
     },
     "output_type": "display_data"
    }
   ],
   "source": [
    "fig, (ax1, ax2, ax3, ax4) = plt.subplots(figsize = (10,5), nrows = 1, ncols =4)\n",
    "\n",
    "Mmetric = 0.06\n",
    "Df = K*2*np.sqrt(Mmetric/3/gFav[0,0])\n",
    "D1f = K*2*np.sqrt(Mmetric/3/gFav[1,1])\n",
    "D2f = K*2*np.sqrt(Mmetric/3/gFav[2,2])\n",
    "\n",
    "offsets_f0 = (result06_modif[:, 0]-f0_inj)/Df\n",
    "ax1.hist(offsets_f0)\n",
    "\n",
    "offsets_f1 = (result06_modif[:,1]-f1d_inj)/D1f\n",
    "ax2.hist(offsets_f1)\n",
    "\n",
    "offsets_f2 = (result06_modif[:, 2]-f2d_inj)/D2f\n",
    "ax3.hist(offsets_f2)\n",
    "\n",
    "offsets = np.sqrt(offsets_f0**2+offsets_f1**2+offsets_f2**2)\n",
    "ax4.hist(offsets)"
   ]
  },
  {
   "cell_type": "code",
   "execution_count": 138,
   "metadata": {},
   "outputs": [
    {
     "name": "stdout",
     "output_type": "stream",
     "text": [
      "mismatch_Noise = 6%: -0.05943474574303207\n",
      "[107.333252  115.193001   96.9743881  65.9176788 129.13327   107.038429\n",
      "  98.9952087 111.927208   73.4296494  95.1639252  90.5259018  95.2131348\n",
      "  69.4169464  76.0148773  97.5424957  68.8174515  95.0784531  90.3842773\n",
      "  94.9577484  98.9595718  83.323555  103.862366   84.7441025  58.4006996\n",
      "  93.0575714  94.003273  130.450424   71.0640488 125.262871   78.1159973\n",
      "  90.2062149  88.4457626  57.042881   72.2505875  71.0190125 118.87365\n",
      "  76.7682495  86.0642776  96.0885773  70.3680267 109.217255   87.2248764\n",
      "  73.5551834 112.379768  126.349396   80.7598572  91.3516922  84.617897\n",
      "  73.481781   92.7082138  65.0238724  78.0619354  90.5839005  78.7819824\n",
      "  82.4638901  63.4259949  67.3835144  77.5546417  65.0833282  72.3670044\n",
      "  92.169632   81.8594742  76.9801331  85.938942   84.1062088 118.216988\n",
      "  56.2842674  62.5207291  66.2751083 106.929901   87.3017731  88.1470184\n",
      "  90.8227081 100.292587   92.4549484 108.380661   93.7457352  64.8438721\n",
      "  38.5651779  77.8764343  77.0145645 100.631119   72.1702881 119.401566\n",
      "  72.6030121  84.355629   60.1702271  64.2061691  65.357811   93.4943085\n",
      " 114.948318   58.4208984 108.96315    99.2269211  60.0002441 100.414215\n",
      "  76.1432877  83.7487335  73.4710541  66.861084 ]\n"
     ]
    }
   ],
   "source": [
    "filenames06_Noise = glob.glob('/home/m206265/lalapps_work/mismatchNewGrid_Noise/SNR_GridLoud_mism06*.txt')\n",
    "data06_Noise = np.array([np.loadtxt(fname=f, comments = '%') for f in filenames06_Noise])\n",
    "\n",
    "result06_Noise = data06_Noise[:,[0,3,4,6]]\n",
    "mismatch06_Noise = (SNR[0] - result06_Noise[:, 3] + 4)/(SNR[0]) # k + lambda, k - deg of freedom, lambda - noncentrality parameter\n",
    "MismComp_mean06_Noise = np.mean(mismatch06_Noise)\n",
    "print('mismatch_Noise = 6%:', MismComp_mean06_Noise)\n",
    "print(result06_Noise[:, 3])"
   ]
  }
 ],
 "metadata": {
  "kernelspec": {
   "display_name": "Python 3",
   "language": "python",
   "name": "python3"
  },
  "language_info": {
   "codemirror_mode": {
    "name": "ipython",
    "version": 3
   },
   "file_extension": ".py",
   "mimetype": "text/x-python",
   "name": "python",
   "nbconvert_exporter": "python",
   "pygments_lexer": "ipython3",
   "version": "3.8.10"
  }
 },
 "nbformat": 4,
 "nbformat_minor": 4
}
