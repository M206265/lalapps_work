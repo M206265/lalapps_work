{
 "cells": [
  {
   "cell_type": "code",
   "execution_count": 2,
   "metadata": {},
   "outputs": [],
   "source": [
    "import numpy as np\n",
    "import math"
   ]
  },
  {
   "cell_type": "code",
   "execution_count": 8,
   "metadata": {},
   "outputs": [],
   "source": [
    "def HoursToDeg(hours, minutes, sec):\n",
    "    return(15*(hours+minutes/60+sec/3600))\n",
    "\n",
    "def DegToDecimal(deg, minutes, sec):\n",
    "    return(deg+minutes/60+sec/3600)\n",
    "\n",
    "def to_radian(degrees):\n",
    "    result = degrees * math.pi / 180\n",
    "    return(result)"
   ]
  },
  {
   "cell_type": "code",
   "execution_count": 11,
   "metadata": {},
   "outputs": [
    {
     "name": "stdout",
     "output_type": "stream",
     "text": [
      "0.2542944720155738 -1.2619021380127668\n"
     ]
    }
   ],
   "source": [
    "J0058ra = to_radian(HoursToDeg(0,58,16.80)) # XMM\n",
    "J0058dec = to_radian(-DegToDecimal(72, 18, 06.0))\n",
    "print(J0058ra, J0058dec)"
   ]
  },
  {
   "cell_type": "code",
   "execution_count": 5,
   "metadata": {},
   "outputs": [
    {
     "data": {
      "text/plain": [
       "0.007433567111421003"
      ]
     },
     "execution_count": 5,
     "metadata": {},
     "output_type": "execute_result"
    }
   ],
   "source": [
    "np.sqrt(5.525792e-05)"
   ]
  },
  {
   "cell_type": "code",
   "execution_count": 12,
   "metadata": {},
   "outputs": [
    {
     "name": "stdout",
     "output_type": "stream",
     "text": [
      "61.189999999556\n"
     ]
    }
   ],
   "source": [
    "F0 = 61.189444444\n",
    "df = 0.000555555556\n",
    "\n",
    "fBand = 0.014 + 0.1\n",
    "print(F0+df)"
   ]
  },
  {
   "cell_type": "code",
   "execution_count": 14,
   "metadata": {},
   "outputs": [
    {
     "name": "stdout",
     "output_type": "stream",
     "text": [
      "0.028333333333333332\n"
     ]
    }
   ],
   "source": [
    "fmin=61.1899123716\n",
    "fband = 0.114\n",
    "\n",
    "print(51/1800)"
   ]
  }
 ],
 "metadata": {
  "kernelspec": {
   "display_name": "Python 3",
   "language": "python",
   "name": "python3"
  },
  "language_info": {
   "codemirror_mode": {
    "name": "ipython",
    "version": 3
   },
   "file_extension": ".py",
   "mimetype": "text/x-python",
   "name": "python",
   "nbconvert_exporter": "python",
   "pygments_lexer": "ipython3",
   "version": "3.8.10"
  }
 },
 "nbformat": 4,
 "nbformat_minor": 4
}
