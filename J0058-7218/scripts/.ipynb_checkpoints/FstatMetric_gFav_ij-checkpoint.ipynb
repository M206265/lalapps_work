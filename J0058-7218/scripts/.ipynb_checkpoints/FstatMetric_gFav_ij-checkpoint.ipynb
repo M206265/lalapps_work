{
 "cells": [
  {
   "cell_type": "code",
   "execution_count": 1,
   "metadata": {},
   "outputs": [],
   "source": [
    "import numpy as np\n",
    "import matplotlib.pyplot as plt\n",
    "import io\n",
    "import glob\n",
    "import seaborn as sns\n",
    "obj = 'J0058-7218'\n",
    "run = 'O3b'\n",
    "path_objData = '../data/'+obj+'Data.dat'\n",
    "pathMetric = '../result/FstatMetric_'+run+'.txt'\n",
    "pathTimeStampsH1 = '../data/timestamps/'+run+'_H1_tslist.txt'\n",
    "pathTimeStampsL1 = '../data/timestamps/'+run+'_L1_tslist.txt'\n"
   ]
  },
  {
   "cell_type": "code",
   "execution_count": 14,
   "metadata": {},
   "outputs": [
    {
     "name": "stdout",
     "output_type": "stream",
     "text": [
      "[[5.32351170e+14 2.88464194e+17 2.15356299e+27]\n",
      " [2.88464194e+17 1.43570778e+27 1.88291712e+30]\n",
      " [2.15356299e+27 1.88291712e+30 1.03713805e+40]]\n"
     ]
    }
   ],
   "source": [
    "file = io.BytesIO(open(pathMetric, 'rb').read().replace(b';',b','))\n",
    "gFav = np.genfromtxt(file, skip_header = 40, max_rows = 3, delimiter = ',', usecols = (0,1,2)) # Metric of frequency space\n",
    "print(gFav)"
   ]
  },
  {
   "cell_type": "code",
   "execution_count": 27,
   "metadata": {},
   "outputs": [
    {
     "ename": "OSError",
     "evalue": "../data/O3b_H1_tslist.txt not found.",
     "output_type": "error",
     "traceback": [
      "\u001b[0;31m---------------------------------------------------------------------------\u001b[0m",
      "\u001b[0;31mOSError\u001b[0m                                   Traceback (most recent call last)",
      "\u001b[0;32m<ipython-input-27-1822cc66ceaf>\u001b[0m in \u001b[0;36m<module>\u001b[0;34m\u001b[0m\n\u001b[0;32m----> 1\u001b[0;31m \u001b[0mTimeStampsH1\u001b[0m \u001b[0;34m=\u001b[0m \u001b[0mnp\u001b[0m\u001b[0;34m.\u001b[0m\u001b[0mgenfromtxt\u001b[0m\u001b[0;34m(\u001b[0m\u001b[0mpathTimeStampsH1\u001b[0m\u001b[0;34m)\u001b[0m\u001b[0;34m\u001b[0m\u001b[0;34m\u001b[0m\u001b[0m\n\u001b[0m\u001b[1;32m      2\u001b[0m \u001b[0mTimeStampsL1\u001b[0m \u001b[0;34m=\u001b[0m \u001b[0mnp\u001b[0m\u001b[0;34m.\u001b[0m\u001b[0mgenfromtxt\u001b[0m\u001b[0;34m(\u001b[0m\u001b[0mpathTimeStampsL1\u001b[0m\u001b[0;34m)\u001b[0m\u001b[0;34m\u001b[0m\u001b[0;34m\u001b[0m\u001b[0m\n\u001b[1;32m      3\u001b[0m \u001b[0mTimeStampsL1H1\u001b[0m \u001b[0;34m=\u001b[0m \u001b[0mnp\u001b[0m\u001b[0;34m.\u001b[0m\u001b[0mconcatenate\u001b[0m\u001b[0;34m(\u001b[0m\u001b[0;34m(\u001b[0m\u001b[0mTimeStampsH1\u001b[0m\u001b[0;34m,\u001b[0m \u001b[0mTimeStampsL1\u001b[0m\u001b[0;34m)\u001b[0m\u001b[0;34m)\u001b[0m\u001b[0;34m\u001b[0m\u001b[0;34m\u001b[0m\u001b[0m\n\u001b[1;32m      4\u001b[0m \u001b[0;34m\u001b[0m\u001b[0m\n\u001b[1;32m      5\u001b[0m \u001b[0mTstart\u001b[0m \u001b[0;34m=\u001b[0m \u001b[0mmin\u001b[0m\u001b[0;34m(\u001b[0m\u001b[0mTimeStampsL1H1\u001b[0m\u001b[0;34m)\u001b[0m\u001b[0;34m\u001b[0m\u001b[0;34m\u001b[0m\u001b[0m\n",
      "\u001b[0;32m~/.local/lib/python3.8/site-packages/numpy/lib/npyio.py\u001b[0m in \u001b[0;36mgenfromtxt\u001b[0;34m(fname, dtype, comments, delimiter, skip_header, skip_footer, converters, missing_values, filling_values, usecols, names, excludelist, deletechars, replace_space, autostrip, case_sensitive, defaultfmt, unpack, usemask, loose, invalid_raise, max_rows, encoding, like)\u001b[0m\n\u001b[1;32m   1791\u001b[0m             \u001b[0mfname\u001b[0m \u001b[0;34m=\u001b[0m \u001b[0mos_fspath\u001b[0m\u001b[0;34m(\u001b[0m\u001b[0mfname\u001b[0m\u001b[0;34m)\u001b[0m\u001b[0;34m\u001b[0m\u001b[0;34m\u001b[0m\u001b[0m\n\u001b[1;32m   1792\u001b[0m         \u001b[0;32mif\u001b[0m \u001b[0misinstance\u001b[0m\u001b[0;34m(\u001b[0m\u001b[0mfname\u001b[0m\u001b[0;34m,\u001b[0m \u001b[0mstr\u001b[0m\u001b[0;34m)\u001b[0m\u001b[0;34m:\u001b[0m\u001b[0;34m\u001b[0m\u001b[0;34m\u001b[0m\u001b[0m\n\u001b[0;32m-> 1793\u001b[0;31m             \u001b[0mfid\u001b[0m \u001b[0;34m=\u001b[0m \u001b[0mnp\u001b[0m\u001b[0;34m.\u001b[0m\u001b[0mlib\u001b[0m\u001b[0;34m.\u001b[0m\u001b[0m_datasource\u001b[0m\u001b[0;34m.\u001b[0m\u001b[0mopen\u001b[0m\u001b[0;34m(\u001b[0m\u001b[0mfname\u001b[0m\u001b[0;34m,\u001b[0m \u001b[0;34m'rt'\u001b[0m\u001b[0;34m,\u001b[0m \u001b[0mencoding\u001b[0m\u001b[0;34m=\u001b[0m\u001b[0mencoding\u001b[0m\u001b[0;34m)\u001b[0m\u001b[0;34m\u001b[0m\u001b[0;34m\u001b[0m\u001b[0m\n\u001b[0m\u001b[1;32m   1794\u001b[0m             \u001b[0mfid_ctx\u001b[0m \u001b[0;34m=\u001b[0m \u001b[0mcontextlib\u001b[0m\u001b[0;34m.\u001b[0m\u001b[0mclosing\u001b[0m\u001b[0;34m(\u001b[0m\u001b[0mfid\u001b[0m\u001b[0;34m)\u001b[0m\u001b[0;34m\u001b[0m\u001b[0;34m\u001b[0m\u001b[0m\n\u001b[1;32m   1795\u001b[0m         \u001b[0;32melse\u001b[0m\u001b[0;34m:\u001b[0m\u001b[0;34m\u001b[0m\u001b[0;34m\u001b[0m\u001b[0m\n",
      "\u001b[0;32m~/.local/lib/python3.8/site-packages/numpy/lib/_datasource.py\u001b[0m in \u001b[0;36mopen\u001b[0;34m(path, mode, destpath, encoding, newline)\u001b[0m\n\u001b[1;32m    191\u001b[0m \u001b[0;34m\u001b[0m\u001b[0m\n\u001b[1;32m    192\u001b[0m     \u001b[0mds\u001b[0m \u001b[0;34m=\u001b[0m \u001b[0mDataSource\u001b[0m\u001b[0;34m(\u001b[0m\u001b[0mdestpath\u001b[0m\u001b[0;34m)\u001b[0m\u001b[0;34m\u001b[0m\u001b[0;34m\u001b[0m\u001b[0m\n\u001b[0;32m--> 193\u001b[0;31m     \u001b[0;32mreturn\u001b[0m \u001b[0mds\u001b[0m\u001b[0;34m.\u001b[0m\u001b[0mopen\u001b[0m\u001b[0;34m(\u001b[0m\u001b[0mpath\u001b[0m\u001b[0;34m,\u001b[0m \u001b[0mmode\u001b[0m\u001b[0;34m,\u001b[0m \u001b[0mencoding\u001b[0m\u001b[0;34m=\u001b[0m\u001b[0mencoding\u001b[0m\u001b[0;34m,\u001b[0m \u001b[0mnewline\u001b[0m\u001b[0;34m=\u001b[0m\u001b[0mnewline\u001b[0m\u001b[0;34m)\u001b[0m\u001b[0;34m\u001b[0m\u001b[0;34m\u001b[0m\u001b[0m\n\u001b[0m\u001b[1;32m    194\u001b[0m \u001b[0;34m\u001b[0m\u001b[0m\n\u001b[1;32m    195\u001b[0m \u001b[0;34m\u001b[0m\u001b[0m\n",
      "\u001b[0;32m~/.local/lib/python3.8/site-packages/numpy/lib/_datasource.py\u001b[0m in \u001b[0;36mopen\u001b[0;34m(self, path, mode, encoding, newline)\u001b[0m\n\u001b[1;32m    531\u001b[0m                                       encoding=encoding, newline=newline)\n\u001b[1;32m    532\u001b[0m         \u001b[0;32melse\u001b[0m\u001b[0;34m:\u001b[0m\u001b[0;34m\u001b[0m\u001b[0;34m\u001b[0m\u001b[0m\n\u001b[0;32m--> 533\u001b[0;31m             \u001b[0;32mraise\u001b[0m \u001b[0mIOError\u001b[0m\u001b[0;34m(\u001b[0m\u001b[0;34m\"%s not found.\"\u001b[0m \u001b[0;34m%\u001b[0m \u001b[0mpath\u001b[0m\u001b[0;34m)\u001b[0m\u001b[0;34m\u001b[0m\u001b[0;34m\u001b[0m\u001b[0m\n\u001b[0m\u001b[1;32m    534\u001b[0m \u001b[0;34m\u001b[0m\u001b[0m\n\u001b[1;32m    535\u001b[0m \u001b[0;34m\u001b[0m\u001b[0m\n",
      "\u001b[0;31mOSError\u001b[0m: ../data/O3b_H1_tslist.txt not found."
     ]
    }
   ],
   "source": [
    "TimeStampsH1 = np.genfromtxt(pathTimeStampsH1)\n",
    "TimeStampsL1 = np.genfromtxt(pathTimeStampsL1)\n",
    "TimeStampsL1H1 = np.concatenate((TimeStampsH1, TimeStampsL1))\n",
    "\n",
    "Tstart = min(TimeStampsL1H1)\n",
    "Tend = max(TimeStampsL1H1)\n",
    "T_obs = (Tend - Tstart)+1800\n",
    "\n",
    " # Template grid\n",
    "df = 1/T_obs  \n",
    "d1f = 1/T_obs**2\n",
    "d2f = 1/T_obs**3\n",
    "\n",
    " # Offsets\n",
    "dL = 0.5*df\n",
    "d1L = 0.5*d1f\n",
    "d2L = 0.5*d2f\n",
    "print(dL)"
   ]
  },
  {
   "cell_type": "markdown",
   "metadata": {},
   "source": [
    " $$ Mismatch: m(\\Delta\\lambda, \\lambda_{sign}) = \\frac{\\rho^2(0) - \\rho^2(\\Delta\\lambda)}{\\rho^2(0)} $$"
   ]
  },
  {
   "cell_type": "code",
   "execution_count": 16,
   "metadata": {},
   "outputs": [],
   "source": [
    "def MismMetrFun(gFav, dL, d1L, d2L):\n",
    "    MismMetr = gFav[0,0]*dL**2 + gFav[0,1]*dL*d1L + gFav[0,2]*dL*d2L + gFav[1,0]*d1L*dL+ \\\n",
    "      + gFav[1,1]*d1L**2 + gFav[1,2]*d1L*d2L + gFav[2,0]*d2L*dL + gFav[2,1]*d2L*d1L + gFav[2,2]*d2L**2\n",
    "    return(MismMetr)\n",
    "\n",
    "def MismMetr_diagFun(gFav, dL, d1L, d2L):\n",
    "    MismMetr_diag = gFav[0,0]*dL**2 + gFav[1,1]*d1L**2 + gFav[2,2]*d2L**2\n",
    "    return(MismMetr_diag)"
   ]
  },
  {
   "cell_type": "code",
   "execution_count": 17,
   "metadata": {},
   "outputs": [
    {
     "name": "stdout",
     "output_type": "stream",
     "text": [
      "0.8795810035990581\n",
      "0.8382437827023581\n"
     ]
    }
   ],
   "source": [
    "MismMetr = MismMetrFun(gFav, dL, d1L, d2L)\n",
    "MismMetr_diag = MismMetr_diagFun(gFav, dL, d1L, d2L)\n",
    "\n",
    "print(MismMetr)\n",
    "print(MismMetr_diag)"
   ]
  },
  {
   "cell_type": "code",
   "execution_count": 18,
   "metadata": {},
   "outputs": [
    {
     "data": {
      "image/png": "[encoded data removed]",
      "text/plain": [
       "<Figure size 432x288 with 1 Axes>"
      ]
     },
     "metadata": {
      "needs_background": "light"
     },
     "output_type": "display_data"
    }
   ],
   "source": [
    "fig, ax = plt.subplots(1,1)\n",
    "\n",
    "offset = np.arange(0, 1, 0.01)\n",
    "MismMetr_diagf = MismMetr_diagFun(gFav, offset*df, 0, 0)\n",
    "ax.plot(offset, MismMetr_diagf, '-', label = 'Mismatch F')\n",
    "\n",
    "MismMetr_diagf1 = MismMetr_diagFun(gFav, 0, offset*d1f, 0)\n",
    "ax.plot(offset, MismMetr_diagf1, '-', label = 'Mismatch F1')\n",
    "\n",
    "MismMetr_diagf2 = MismMetr_diagFun(gFav, 0, 0, offset*d2f)\n",
    "ax.plot(offset, MismMetr_diagf2, '-', label = 'Mismatch F2')\n",
    "\n",
    "#ax.plot(offset, gFav[0,0]*(offset*df)**2, 'k.')\n",
    "\n",
    "ax.set_ylabel('Mismatch metric')\n",
    "ax.set_xlabel('Offset')\n",
    "plt.legend()\n",
    "plt.grid()\n",
    "plt.show()"
   ]
  },
  {
   "cell_type": "markdown",
   "metadata": {},
   "source": [
    "We want to set the grid so mismatch in df, d1f and d2f will change similarly due to number of templates"
   ]
  },
  {
   "cell_type": "code",
   "execution_count": 19,
   "metadata": {},
   "outputs": [
    {
     "data": {
      "image/png": "[encoded data removed]",
      "text/plain": [
       "<Figure size 432x288 with 1 Axes>"
      ]
     },
     "metadata": {
      "needs_background": "light"
     },
     "output_type": "display_data"
    }
   ],
   "source": [
    "fig, ax = plt.subplots(1,1)\n",
    "\n",
    "offset = np.arange(0, 0.7, 0.01)\n",
    "MismMetr_diagf = MismMetr_diagFun(gFav, offset*df, 0, 0)\n",
    "ax.plot(offset*df*np.sqrt(gFav[0,0]), MismMetr_diagf, '.', label = 'Mismatch F')\n",
    "#ax.plot(np.sqrt(1.2), 1.2, '*', label = 'dot')\n",
    "\n",
    "\n",
    "MismMetr_diagf1 = MismMetr_diagFun(gFav, 0, offset*d1f, 0)\n",
    "ax.plot(offset*d1f*np.sqrt(gFav[1,1]), MismMetr_diagf1, '.', label = 'Mismatch F1')\n",
    "\n",
    "MismMetr_diagf2 = MismMetr_diagFun(gFav, 0, 0, offset*d2f)\n",
    "ax.plot(offset*np.sqrt(gFav[2,2])*d2f, MismMetr_diagf2, '.', label = 'Mismatch F2')\n",
    "\n",
    "ax.plot(offset*df*np.sqrt(gFav[0,0]),np.ones(len(offset)), label = 'Mismatch = 1.0')\n",
    "ax.set_xlabel(r'Offset $\\Delta\\lambda_i*\\sqrt{g_{ii}}$')\n",
    "ax.set_ylabel('Mismatch metric')\n",
    "\n",
    "\n",
    "ax.grid()\n",
    "ax.legend()\n",
    "plt.show()"
   ]
  },
  {
   "cell_type": "markdown",
   "metadata": {},
   "source": [
    "# Set up template grid from the metric"
   ]
  },
  {
   "cell_type": "code",
   "execution_count": 20,
   "metadata": {},
   "outputs": [
    {
     "name": "stdout",
     "output_type": "stream",
     "text": [
      "Df/df, D1f/d1f, D2f/d2f\n",
      "0.15580615269445064 1.2058392042054742 5.702205435468375\n"
     ]
    }
   ],
   "source": [
    "# Target total mismatch\n",
    "Mmetric = 0.06\n",
    "Df = 2*np.sqrt(Mmetric/3/gFav[0,0])\n",
    "D1f = 2*np.sqrt(Mmetric/3/gFav[1,1])\n",
    "D2f = 2*np.sqrt(Mmetric/3/gFav[2,2])\n",
    "\n",
    "print('Df/df, D1f/d1f, D2f/d2f')\n",
    "#print(Df, D1f, D2f)\n",
    "print(Df/df, D1f/d1f, D2f/d2f)"
   ]
  },
  {
   "cell_type": "code",
   "execution_count": 21,
   "metadata": {},
   "outputs": [
    {
     "data": {
      "image/png": "[encoded data removed]",
      "text/plain": [
       "<Figure size 432x288 with 1 Axes>"
      ]
     },
     "metadata": {
      "needs_background": "light"
     },
     "output_type": "display_data"
    }
   ],
   "source": [
    "fig, ax = plt.subplots(1,1)\n",
    "\n",
    "offset = np.arange(0, 0.5, 0.01)\n",
    "MismMetr_diagf = MismMetr_diagFun(gFav, offset*Df, 0, 0)\n",
    "ax.plot(offset*Df*np.sqrt(gFav[0,0]), MismMetr_diagf, '--', label = 'Mismatch F')\n",
    "\n",
    "MismMetr_diagf1 = MismMetr_diagFun(gFav, 0, offset*D1f, 0)\n",
    "ax.plot(offset*D1f*np.sqrt(gFav[1,1]), MismMetr_diagf1, '-', label = 'Mismatch F1')\n",
    "\n",
    "MismMetr_diagf2 = MismMetr_diagFun(gFav, 0, 0, offset*D2f)\n",
    "ax.plot(offset*np.sqrt(gFav[2,2])*D2f, MismMetr_diagf2, '-', label = 'Mismatch F2')\n",
    "\n",
    "#ax.plot(offset*Df*np.sqrt(gFav[0,0]),np.ones(len(offset)))\n",
    "ax.set_xlabel(r'Offset $\\Delta\\lambda_i*\\sqrt{g_{ii}}$')\n",
    "ax.set_ylabel('Mismatch metric')\n",
    "ax.grid()\n",
    "ax.legend()\n",
    "plt.show()"
   ]
  },
  {
   "cell_type": "code",
   "execution_count": 25,
   "metadata": {},
   "outputs": [
    {
     "name": "stdout",
     "output_type": "stream",
     "text": [
      "mism= 1.2000000000000002\n",
      "fBand= 4.7477901668181816e-08 f1Band= 2.8910632679199804e-14 f2Band= 1.0756533632677788e-20\n",
      "Ntempl in f= 3.872983346207417 Ntempl in f1d= 3.8729833462074166 Ntempl in f2d= 3.872983346207417\n",
      "Df= 1.2258741498249434e-08 Df1= 7.464693259657385e-15 Df2= 7.464693259657385e-15\n"
     ]
    }
   ],
   "source": [
    "mism_array = np.arange(0, 1.2, 0.01)\n",
    "\n",
    "fBand = np.sqrt(1.2/gFav[0,0])\n",
    "f1Band = np.sqrt(1.2/gFav[1,1])\n",
    "f2Band = np.sqrt(1.2/gFav[2,2])\n",
    "mism = gFav[0,0]*(fBand)**2\n",
    "print('mism=', mism)\n",
    "print('fBand=', fBand, 'f1Band=', f1Band, 'f2Band=', f2Band)\n",
    "print('Ntempl in f=', fBand/Df, 'Ntempl in f1d=',f1Band/D1f, 'Ntempl in f2d=', f2Band/D2f)\n",
    "print('Df=', Df, 'Df1=', D1f, 'Df2=', D1f)\n",
    "\n",
    "#SNR_perfmatched = np.genfromtxt('/home/m206265/lalapps_work/Fstat_nonoise_perfmatched.txt', comments = '%') # rho^2(0)\n",
    "SNR_offsets = np.genfromtxt('/home/m206265/lalapps_work/SNR_offsets.txt',  comments = '%')\n",
    "\n",
    "SNR = SNR_offsets[:,6]\n",
    "f = SNR_offsets[:,0]\n",
    "f1d = SNR_offsets[:,3]\n",
    "f2d = SNR_offsets[:,4]\n",
    "\n",
    "f0_inj = f[0]\n",
    "f1d_inj = f1d[0]\n",
    "f2d_inj = f2d[0]\n",
    "\n",
    "indf0_inj = np.where(f==f0_inj)\n",
    "indf1d_inj = np.where(f1d==f1d_inj)\n",
    "indf2d_inj = np.where(f2d==f2d_inj)\n",
    "\n",
    "ind_intersect = np.intersect1d(indf1d_inj, indf2d_inj)\n",
    "f_fixed_inj = f[ind_intersect]\n"
   ]
  },
  {
   "cell_type": "code",
   "execution_count": 26,
   "metadata": {},
   "outputs": [
    {
     "data": {
      "image/png": "[encoded data removed]",
      "text/plain": [
       "<Figure size 432x288 with 1 Axes>"
      ]
     },
     "metadata": {
      "needs_background": "light"
     },
     "output_type": "display_data"
    }
   ],
   "source": [
    "fig, ax = plt.subplots(1,1)\n",
    "# Offset in frequency only\n",
    "ind_intersect = np.intersect1d(indf1d_inj, indf2d_inj)\n",
    "ind_intersectf1d = np.intersect1d(indf0_inj, indf2d_inj)\n",
    "ind_intersectf2d = np.intersect1d(indf0_inj, indf1d_inj)\n",
    "\n",
    "f_fixed_inj = f[ind_intersect]\n",
    "f1d_fixed_inj = f1d[ind_intersectf1d]\n",
    "f2d_fixed_inj = f2d[ind_intersectf2d]\n",
    "\n",
    "mismatch = (SNR[0] - SNR[ind_intersect])/SNR[0]\n",
    "mismatch_f1d = (SNR[0] - SNR[ind_intersectf1d])/SNR[0]\n",
    "mismatch_f2d = (SNR[0] - SNR[ind_intersectf2d])/SNR[0]\n",
    "\n",
    "offset_f = np.sqrt(mism_array/gFav[0,0])\n",
    "MismMetr_diagf = MismMetr_diagFun(gFav, offset_f, 0, 0)\n",
    "ax.plot(offset_f*np.sqrt(gFav[0,0]), MismMetr_diagf, '-', label = 'Metric Mismatch F')\n",
    "\n",
    "ax.plot((f_fixed_inj-f0_inj)*np.sqrt(gFav[0,0]), mismatch, '.', label = 'Measured Mismatch')\n",
    "ax.plot((f1d_fixed_inj-f1d_inj)*np.sqrt(gFav[1,1]), mismatch_f1d, '.', label = 'Measured Mismatch f1d')\n",
    "ax.plot((f2d_fixed_inj-f2d_inj)*np.sqrt(gFav[2,2]), mismatch_f2d, '.', label = 'Measured Mismatch f2d')\n",
    "\n",
    "#ax.plot(offset*Df*np.sqrt(gFav[0,0]),np.ones(len(offset)))\n",
    "ax.set_xlabel(r'Offset $\\Delta\\lambda_i*\\sqrt{g_{ii}}$')\n",
    "ax.set_ylabel('Mismatch')\n",
    "ax.grid()\n",
    "ax.legend()\n",
    "ax.set_yscale('log')\n",
    "ax.set_xscale('log')\n",
    "plt.show()"
   ]
  },
  {
   "cell_type": "code",
   "execution_count": 12,
   "metadata": {},
   "outputs": [
    {
     "name": "stdout",
     "output_type": "stream",
     "text": [
      "100\n"
     ]
    }
   ],
   "source": [
    "filenames06 = glob.glob('/home/m206265/lalapps_work/mismatchNewGrid/mism6/SNR_GridLoud_mism6*.txt')\n",
    "data06 = np.array([np.genfromtxt(fname=f, comments = '%') for f in filenames06])\n",
    "filenames06_old = glob.glob('/home/m206265/lalapps_work/mismatchNewGrid/SNR_GridLoud_mism06*.txt')\n",
    "data06_old = np.array([np.genfromtxt(fname=f, comments = '%') for f in filenames06_old])\n",
    "filenames10 = glob.glob('/home/m206265/lalapps_work/mismatchNewGrid/mism10/SNR_GridLoud_mism10*.txt')\n",
    "data10 = np.array([np.loadtxt(fname=f, comments = '%') for f in filenames10])\n",
    "filenames1 = glob.glob('/home/m206265/lalapps_work/mismatchNewGrid/mism1/SNR_GridLoud_mism1*.txt')\n",
    "data1 = np.array([np.genfromtxt(fname=f, comments = '%') for f in filenames1])\n",
    "filenames25 = glob.glob('/home/m206265/lalapps_work/mismatchNewGrid/mism25/SNR_GridLoud_mism25*.txt')\n",
    "data25 = np.array([np.genfromtxt(fname=f, comments = '%') for f in filenames25])\n",
    "filenames50 = glob.glob('/home/m206265/lalapps_work/mismatchNewGrid/mism50/SNR_GridLoud_mism50*.txt')\n",
    "data50 = np.array([np.genfromtxt(fname=f, comments = '%') for f in filenames50])\n",
    "\n",
    "\n",
    "print(len(filenames06))\n",
    "result06 = data06[:,[0,3,4,6]]\n",
    "result06_old = data06_old[:,[0,3,4,6]]\n",
    "\n",
    "result10 = data10[:,[0,3,4,6]]\n",
    "result1 = data1[:,[0,3,4,6]]\n",
    "result50 = data50[:,[0,3,4,6]]\n",
    "result25 = data25[:,[0,3,4,6]]"
   ]
  },
  {
   "cell_type": "code",
   "execution_count": 13,
   "metadata": {},
   "outputs": [
    {
     "data": {
      "image/png": "[encoded data removed]",
      "text/plain": [
       "<Figure size 432x288 with 1 Axes>"
      ]
     },
     "metadata": {
      "needs_background": "light"
     },
     "output_type": "display_data"
    }
   ],
   "source": [
    "fig, ax1 = plt.subplots(1,1)\n",
    "mismatch06 = (SNR[0] - result06[:, 3])/SNR[0]\n",
    "mismatch06_old = (SNR[0] - result06_old[:, 3])/SNR[0]\n",
    "\n",
    "mismatch10 = (SNR[0] - result10[:, 3])/SNR[0]\n",
    "mismatch1 = (SNR[0] - result1[:, 3])/SNR[0]\n",
    "mismatch25 = (SNR[0] - result25[:, 3])/SNR[0]\n",
    "mismatch50 = (SNR[0] - result50[:, 3])/SNR[0]\n",
    "\n",
    "ax1.hist(mismatch06)\n",
    "plt.title('Distribution of mismatch (6%)')\n",
    "plt.show()\n"
   ]
  },
  {
   "cell_type": "code",
   "execution_count": 14,
   "metadata": {},
   "outputs": [
    {
     "name": "stdout",
     "output_type": "stream",
     "text": [
      "mismatch = 6%: 0.006315269915024123\n",
      "mismatch = 10%: 0.012798987775167539\n",
      "mismatch = 6% (old) : 0.008269311443526417\n",
      "mismatch = 1%: 0.001279052695916623\n",
      "mismatch = 25%: 0.029869226307874606\n",
      "mismatch = 50%: 0.05913965587846125\n",
      "K06 3.0823337858045634\n",
      "K06_old 2.693648671734788\n",
      "K10 2.795195496180661\n",
      "K1 2.796119841406834\n",
      "K25 2.8930638433722016\n",
      "K50 2.907673280467428\n",
      "9.500781567112291\n",
      "7.813117861868651\n"
     ]
    }
   ],
   "source": [
    "MismComp_mean06 = np.mean(mismatch06)\n",
    "print('mismatch = 6%:', MismComp_mean06)\n",
    "MismComp_mean10 = np.mean(mismatch10)\n",
    "print('mismatch = 10%:',MismComp_mean10)\n",
    "MismComp_mean06_old = np.mean(mismatch06_old)\n",
    "print('mismatch = 6% (old) :',MismComp_mean06_old)\n",
    "MismComp_mean1 = np.mean(mismatch1)\n",
    "print('mismatch = 1%:',MismComp_mean1)\n",
    "MismComp_mean25 = np.mean(mismatch25)\n",
    "print('mismatch = 25%:',MismComp_mean25)\n",
    "MismComp_mean50 = np.mean(mismatch50)\n",
    "print('mismatch = 50%:',MismComp_mean50)\n",
    "\n",
    "K06 = np.sqrt(0.06)/np.sqrt(MismComp_mean06)\n",
    "print('K06', K06)\n",
    "\n",
    "K06_old = np.sqrt(0.06)/np.sqrt(MismComp_mean06_old)\n",
    "print('K06_old', K06_old)\n",
    "\n",
    "K10 = np.sqrt(0.1)/np.sqrt(MismComp_mean10)\n",
    "print('K10', K10)\n",
    "\n",
    "K1 = np.sqrt(0.01)/np.sqrt(MismComp_mean1)\n",
    "print('K1', K1)\n",
    "\n",
    "K25 = np.sqrt(0.25)/np.sqrt(MismComp_mean25)\n",
    "print('K25', K25)\n",
    "\n",
    "K50 = np.sqrt(0.5)/np.sqrt(MismComp_mean50)\n",
    "print('K50', K50)\n",
    "\n",
    "print(Mmetric/MismComp_mean06)\n",
    "print(0.1/MismComp_mean10)"
   ]
  },
  {
   "cell_type": "code",
   "execution_count": 60,
   "metadata": {},
   "outputs": [
    {
     "name": "stdout",
     "output_type": "stream",
     "text": [
      "-2.148939960825519\n",
      "2.8930638433722016 2.907673280467428\n",
      "0.029869226307874606 0.02956982793923062\n",
      "0.11808286363784617\n"
     ]
    },
    {
     "data": {
      "image/png": "[encoded data removed]",
      "text/plain": [
       "<Figure size 720x360 with 1 Axes>"
      ]
     },
     "metadata": {
      "needs_background": "light"
     },
     "output_type": "display_data"
    }
   ],
   "source": [
    "fig,ax = plt. subplots(figsize = (10,5))\n",
    "\n",
    "ax.plot(0.06, MismComp_mean06, 'o')\n",
    "ax.plot(0.1, MismComp_mean10, 'o')\n",
    "ax.plot(0.06, MismComp_mean06_old, 'x')\n",
    "ax.plot(0.01, MismComp_mean1, 'o')\n",
    "ax.plot(0.25, MismComp_mean25, 'o')\n",
    "ax.plot(0.50, MismComp_mean50, 'o')\n",
    "\n",
    "array_mism = np.array([0.01, 0.5])\n",
    "ax.plot(array_mism, array_mism, '-.' , label = 'metric mismatch')\n",
    "\n",
    "k = -(MismComp_mean50 - MismComp_mean1)/(0.01-0.5)\n",
    "b = 0 #-(MismComp_mean1*0.5 - MismComp_mean50*0.01)/(0.01-0.5)\n",
    "ax.plot(array_mism, k*array_mism+b, label = 'computed mismatch')\n",
    "ax.grid()\n",
    "ax.set_yscale('log')\n",
    "ax.set_xscale('log')\n",
    "\n",
    "coeff_to_K = np.log10(0.5)-np.log10(MismComp_mean50)\n",
    "print(np.log10(0.06) - coeff_to_K)\n",
    "print( K25, np.sqrt(0.25)/np.sqrt(10**(np.log10(0.25)-coeff_to_K)))\n",
    "print( MismComp_mean25, 10**(np.log10(0.25)-coeff_to_K))\n",
    "ax.plot(0.15,  10**(np.log10(0.15)-coeff_to_K), 'k+')\n",
    "print(k)\n",
    "ax.set_ylabel('computed mean mism')\n",
    "ax.set_xlabel('mismatch metric')\n",
    "ax.legend()\n",
    "plt.savefig('mismmetric-to-compmeanmism.png')"
   ]
  },
  {
   "cell_type": "code",
   "execution_count": 16,
   "metadata": {},
   "outputs": [
    {
     "data": {
      "image/png": "[encoded data removed]",
      "text/plain": [
       "<Figure size 720x360 with 2 Axes>"
      ]
     },
     "metadata": {
      "needs_background": "light"
     },
     "output_type": "display_data"
    }
   ],
   "source": [
    "fig, (ax, ax2) = plt.subplots(figsize = (10,5), nrows = 1, ncols =2)\n",
    "\n",
    "Mmetric = 0.06\n",
    "Df = 2*np.sqrt(Mmetric/3/gFav[0,0])\n",
    "D1f = 2*np.sqrt(Mmetric/3/gFav[1,1])\n",
    "D2f = 2*np.sqrt(Mmetric/3/gFav[2,2])\n",
    "\n",
    "offsets_f0 = (result06[:, 0]-f0_inj)/Df\n",
    "ax.hist(offsets_f0, bins = 5, histtype = 'step', label = 'Offsets f')\n",
    "\n",
    "offsets_f1 = (result06[:,1]-f1d_inj)/D1f\n",
    "ax.hist(offsets_f1, bins = 5, histtype = 'step', label = 'Offsets f1d')\n",
    "\n",
    "offsets_f2 = (result06[:, 2]-f2d_inj)/D2f\n",
    "ax.hist(offsets_f2, bins = 5,histtype =  'step', label = 'Offsets f2d')\n",
    "\n",
    "offsets = np.sqrt(offsets_f0**2+offsets_f1**2+offsets_f2**2)\n",
    "ax2.hist(offsets, bins = 5, histtype = 'step', label = 'Offsets all')\n",
    "\n",
    "ax.legend()\n",
    "ax2.legend()\n",
    "ax.grid()\n",
    "ax2.grid()\n",
    "plt.show()\n",
    "#print(result06[:, 0])\n",
    "#print(offsets)\n",
    "\n"
   ]
  },
  {
   "cell_type": "code",
   "execution_count": 17,
   "metadata": {},
   "outputs": [
    {
     "data": {
      "image/png": "[encoded data removed]",
      "text/plain": [
       "<Figure size 720x360 with 2 Axes>"
      ]
     },
     "metadata": {
      "needs_background": "light"
     },
     "output_type": "display_data"
    }
   ],
   "source": [
    "fig, (ax, ax2) = plt.subplots(figsize = (10,5), nrows = 1, ncols =2)\n",
    "\n",
    "Mmetric = 0.06\n",
    "Df = 2*np.sqrt(Mmetric/3/gFav[0,0])\n",
    "D1f = 2*np.sqrt(Mmetric/3/gFav[1,1])\n",
    "D2f = 2*np.sqrt(Mmetric/3/gFav[2,2])\n",
    "\n",
    "offsets_f0 = (result10[:, 0]-f0_inj)/Df\n",
    "ax.hist(offsets_f0, bins = 5, histtype = 'step', label = 'Offsets f')\n",
    "\n",
    "offsets_f1 = (result10[:,1]-f1d_inj)/D1f\n",
    "ax.hist(offsets_f1, bins = 5, histtype = 'step', label = 'Offsets f1d')\n",
    "\n",
    "offsets_f2 = (result10[:, 2]-f2d_inj)/D2f\n",
    "ax.hist(offsets_f2, bins = 5,histtype =  'step', label = 'Offsets f2d')\n",
    "\n",
    "offsets = np.sqrt(offsets_f0**2+offsets_f1**2+offsets_f2**2)\n",
    "ax2.hist(offsets, bins = 5, histtype = 'step', label = 'Offsets all')\n",
    "\n",
    "ax.legend()\n",
    "ax2.legend()\n",
    "ax.grid()\n",
    "ax2.grid()\n",
    "\n",
    "ax.set_title('Mismatch = 10%')\n",
    "ax2.set_title('Mismatch = 10%')\n",
    "\n",
    "plt.show()\n",
    "#print(result10[:, 0])\n",
    "#print(offsets)\n",
    "\n"
   ]
  },
  {
   "cell_type": "markdown",
   "metadata": {},
   "source": [
    "## Modified grid"
   ]
  },
  {
   "cell_type": "markdown",
   "metadata": {},
   "source": [
    "Let's modify our grid and increase offsets by K times - grid will be more scarce"
   ]
  },
  {
   "cell_type": "markdown",
   "metadata": {},
   "source": [
    "$\n",
    "d\\lambda^i (m^l_*, \\tau_{obs}) = \\frac{1}{K} \\delta f^*_{mtr}(m^{diag}_{mtr}=m^l_*, \\tau_{obs}) \\\\\n",
    "K = \\frac{\\delta f}{d \\lambda^i} = \\frac{\\sqrt{0.06}}{\\sqrt{m_{meas}}}\n",
    "$"
   ]
  },
  {
   "cell_type": "code",
   "execution_count": null,
   "metadata": {},
   "outputs": [],
   "source": [
    "K = np.sqrt(0.06)/np.sqrt(MismComp_mean06) # coefficient to a new grid\n",
    "print(K)\n",
    "\n",
    "dl = K*Df\n",
    "d1l = K*D1f\n",
    "d2l = K*D2f\n",
    "\n",
    "print(dl)\n",
    "#print(np.sqrt(MismComp_mean20)/np.sqrt(0.2))"
   ]
  },
  {
   "cell_type": "code",
   "execution_count": null,
   "metadata": {},
   "outputs": [],
   "source": [
    "K = np.sqrt(0.06)/np.sqrt(MismComp_mean06) # coefficient to a new grid\n",
    "print(K)\n",
    "\n",
    "dl = K*Df\n",
    "d1l = K*D1f\n",
    "d2l = K*D2f"
   ]
  },
  {
   "cell_type": "code",
   "execution_count": null,
   "metadata": {},
   "outputs": [],
   "source": [
    "filenames06_modif = glob.glob('/home/m206265/lalapps_work/mismatchNewGrid/mism6/SNR_GridLoud_modif6*.txt')\n",
    "data06_modif = np.array([np.loadtxt(fname=f, comments = '%') for f in filenames06_modif])\n",
    "\n",
    "result06_modif = data06_modif[:,[0,3,4,6]]\n",
    "mismatch06_modif = (SNR[0] - result06_modif[:, 3])/SNR[0]\n",
    "MismComp_mean06_modif = np.mean(mismatch06_modif)\n",
    "\n",
    "print('mismatch_modif = 6%:', MismComp_mean06_modif)\n",
    "filenames10_modif = glob.glob('/home/m206265/lalapps_work/mismatchNewGrid/mism10/SNR_GridLoud_modif10*.txt')\n",
    "data10_modif = np.array([np.loadtxt(fname=f, comments = '%') for f in filenames10_modif])\n",
    "result10_modif = data10_modif[:,[0,3,4,6]]\n",
    "mismatch10_modif = (SNR[0] - result10_modif[:, 3])/SNR[0]\n",
    "MismComp_mean10_modif = np.mean(mismatch10_modif)\n",
    "\n",
    "print('mismatch_modif = 10%:', MismComp_mean10_modif)"
   ]
  },
  {
   "cell_type": "code",
   "execution_count": null,
   "metadata": {},
   "outputs": [],
   "source": [
    "fig, (ax1, ax2, ax3, ax4) = plt.subplots(figsize = (10,5), nrows = 1, ncols =4)\n",
    "\n",
    "Mmetric = 0.06\n",
    "Df = K*2*np.sqrt(Mmetric/3/gFav[0,0])\n",
    "D1f = K*2*np.sqrt(Mmetric/3/gFav[1,1])\n",
    "D2f = K*2*np.sqrt(Mmetric/3/gFav[2,2])\n",
    "\n",
    "offsets_f0 = (result06_modif[:, 0]-f0_inj)/Df\n",
    "ax1.hist(offsets_f0)\n",
    "\n",
    "offsets_f1 = (result06_modif[:,1]-f1d_inj)/D1f\n",
    "ax2.hist(offsets_f1)\n",
    "\n",
    "offsets_f2 = (result06_modif[:, 2]-f2d_inj)/D2f\n",
    "ax3.hist(offsets_f2)\n",
    "\n",
    "offsets = np.sqrt(offsets_f0**2+offsets_f1**2+offsets_f2**2)\n",
    "ax4.hist(offsets)"
   ]
  },
  {
   "cell_type": "code",
   "execution_count": null,
   "metadata": {},
   "outputs": [],
   "source": [
    "filenames06_Noise = glob.glob('/home/m206265/lalapps_work/mismatchNewGrid_Noise_modif/mism6/SNR_GridLoud_modif6_??.txt')\n",
    "filenames06_Noise_perfmatched = glob.glob('/home/m206265/lalapps_work/mismatchNewGrid_Noise_modif/mism6/SNR_GridLoud_modif6_??_perfmatched.txt')\n",
    "\n",
    "data06_Noise = np.array([np.loadtxt(fname=f, comments = '%') for f in filenames06_Noise])\n",
    "data06_Noise_perfmatched = np.array([np.loadtxt(fname=f, comments = '%') for f in filenames06_Noise_perfmatched])\n",
    "\n",
    "result06_Noise = data06_Noise[:,[0,3,4,6]]\n",
    "result06_Noise_perfmatched = data06_Noise_perfmatched[:,[0,3,4,6]]\n",
    "\n",
    "mismatch06_Noise = (result06_Noise_perfmatched[:, 3] - result06_Noise[:, 3])/(result06_Noise_perfmatched[:, 3] + 4) # k + lambda, k - deg of freedom, lambda - noncentrality parameter\n",
    "\n",
    "MismComp_mean06_Noise = np.mean(abs(mismatch06_Noise))\n",
    "print('Target mismatch 6%, computed mean:', MismComp_mean06_Noise)\n",
    "#print(result06_Noise[:, 3])\n",
    "\n",
    "#K = np.sqrt(0.06)/np.sqrt(abs(MismComp_mean06_Noise))\n",
    "#print(K)\n",
    "\n",
    "fig, ax1 = plt.subplots(figsize = (10,5), nrows = 1, ncols =1)\n",
    "ax1.hist(mismatch06_Noise, edgecolor = 'k', bins = 25)\n",
    "ax1.axvline(MismComp_mean06_Noise, color = 'r', label = f'mean m = {round(MismComp_mean06_Noise*100,1)}%')\n",
    "ax1.set_xlabel('mismatch')\n",
    "ax1.set_title('Mismatch distribution in noise for J0534+2200 (Crab), O2.1 run')\n",
    "ax1.grid()\n",
    "ax1.legend()\n",
    "\n",
    "plt.savefig('mism_w_noise_crab6.pdf')"
   ]
  },
  {
   "cell_type": "code",
   "execution_count": null,
   "metadata": {},
   "outputs": [],
   "source": [
    "filenames10_Noise = glob.glob('/home/m206265/lalapps_work/mismatchNewGrid_Noise_modif/mism10/SNR_GridLoud_modif10_??.txt')\n",
    "filenames10_Noise_perfmatched = glob.glob('/home/m206265/lalapps_work/mismatchNewGrid_Noise_modif/mism10/SNR_GridLoud_modif10_??_perfmatched.txt')\n",
    "\n",
    "data10_Noise = np.array([np.loadtxt(fname=f, comments = '%') for f in filenames10_Noise])\n",
    "data10_Noise_perfmatched = np.array([np.loadtxt(fname=f, comments = '%') for f in filenames10_Noise_perfmatched])\n",
    "\n",
    "result10_Noise = data10_Noise[:,[0,3,4,6]]\n",
    "result10_Noise_perfmatched = data10_Noise_perfmatched[:,[0,3,4,6]]\n",
    "\n",
    "mismatch10_Noise = (result10_Noise_perfmatched[:, 3] - result10_Noise[:, 3])/(result10_Noise_perfmatched[:, 3] + 4) # k + lambda, k - deg of freedom, lambda - noncentrality parameter\n",
    "\n",
    "MismComp_mean10_Noise = np.mean(abs(mismatch10_Noise))\n",
    "print('Target mismatch 10%, computed mean:', MismComp_mean10_Noise)\n",
    "#print(result10_Noise[:, 3])\n",
    "\n",
    "#K = np.sqrt(0.10)/np.sqrt(abs(MismComp_mean10_Noise))\n",
    "#print(K)\n",
    "\n",
    "fig, ax1 = plt.subplots(figsize = (10,5), nrows = 1, ncols =1)\n",
    "ax1.hist(mismatch10_Noise, edgecolor = 'k', bins = 25)\n",
    "ax1.axvline(MismComp_mean10_Noise, color = 'r', label = f'mean m = {round(MismComp_mean10_Noise*100,1)}%')\n",
    "ax1.set_xlabel('mismatch')\n",
    "ax1.set_title('Mismatch distribution in noise for J0534+2200 (Crab), O2.1 run')\n",
    "ax1.grid()\n",
    "ax1.legend()\n",
    "\n",
    "plt.savefig('mism_w_noise_crab10.pdf')"
   ]
  }
 ],
 "metadata": {
  "kernelspec": {
   "display_name": "Python 3",
   "language": "python",
   "name": "python3"
  },
  "language_info": {
   "codemirror_mode": {
    "name": "ipython",
    "version": 3
   },
   "file_extension": ".py",
   "mimetype": "text/x-python",
   "name": "python",
   "nbconvert_exporter": "python",
   "pygments_lexer": "ipython3",
   "version": "3.8.10"
  }
 },
 "nbformat": 4,
 "nbformat_minor": 4
}
