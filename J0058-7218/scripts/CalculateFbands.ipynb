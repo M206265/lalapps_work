{
 "cells": [
  {
   "cell_type": "code",
   "execution_count": 16,
   "metadata": {},
   "outputs": [],
   "source": [
    "import numpy as np\n",
    "import pandas as pd\n",
    "from math import cos as cos\n",
    "import math\n",
    "import os\n",
    "\n",
    "datapath = '/home/m206265/lalapps_work/J0058-7218/data/'\n",
    "imgpath = '/home/m206265/lalapps_work/J0058-7218/images/'\n",
    "resultpath = '/home/m206265/lalapps_work/J0058-7218/result/'\n",
    "\n",
    "object_name = 'J0058-7218'"
   ]
  },
  {
   "cell_type": "code",
   "execution_count": 9,
   "metadata": {},
   "outputs": [],
   "source": [
    "def Get_f_band(nu):\n",
    "    f_min = (1.39-0.195*nu**2/nu_kep**2)*nu\n",
    "    f_max = 1.57*nu\n",
    "    return( f_min, f_max )\n",
    "\n",
    "def Get_fdot_band(nu_dot):\n",
    "    fdot_min = (1.39-0.585*nu_dot**2/nu_kep**2)*np.abs(nu_dot)\n",
    "    fdot_max = 1.57*nu_dot\n",
    "    return( fdot_min, fdot_max )\n",
    "\n",
    "def Get_fddot_band(nu_ddot):\n",
    "    fddot_min = (1.39-0.585*nu_ddot**2/nu_kep**2)*(1-2/7)*np.abs(nu_ddot)\n",
    "    fddot_max = 1.57*nu_ddot\n",
    "    return( fddot_min, fddot_max )"
   ]
  },
  {
   "cell_type": "code",
   "execution_count": 14,
   "metadata": {},
   "outputs": [],
   "source": [
    "def getObject(object_name, datapath):\n",
    "    objectData = pd.read_csv(datapath + 'objects_data.csv', delimiter=',')\n",
    "    alpha = objectData[objectData.object == object_name]['right ascension']\n",
    "    delta = objectData[objectData.object == object_name]['declination']\n",
    "    F0 = objectData[objectData.object == object_name]['F0']\n",
    "    F1 = objectData[objectData.object == object_name]['F1']\n",
    "    F2 = objectData[objectData.object == object_name]['F2']\n",
    "\n",
    "    alpha = to_radian(alpha.values)\n",
    "    delta = to_radian(delta.values)\n",
    "    F0 = F0.values\n",
    "    F1 = F1.values\n",
    "    F2 = F2.values\n",
    "\n",
    "    objectData = np.array([alpha, delta, F0, F1, F2], dtype = float)\n",
    "    return (objectData)\n",
    "\n",
    "def to_radian(degrees):\n",
    "    result = degrees * math.pi / 180\n",
    "    return(result)"
   ]
  },
  {
   "cell_type": "code",
   "execution_count": 32,
   "metadata": {},
   "outputs": [
    {
     "name": "stdout",
     "output_type": "stream",
     "text": [
      "f band:  [63.78335903] [72.12648182] delta f: [8.34312279]\n",
      "f dot band:  [8.6630499e-11] [-9.7848837e-11] delta fdot: [-1.84479336e-10]\n",
      "f ddot band:  [4.19184286e-21] [6.62854e-21] delta fddot: [2.43669714e-21]\n",
      "[61.25391237]\n"
     ]
    }
   ],
   "source": [
    "objectData = getObject(object_name, datapath)\n",
    "nu_kep = 506\n",
    "\n",
    "nu = objectData[2] #frequency of rotation\n",
    "nudot = objectData[3]\n",
    "nuddot = objectData[4]\n",
    "\n",
    "f_min, f_max = Get_f_band(nu)\n",
    "f_band = f_max - f_min\n",
    "\n",
    "fdot_min, fdot_max = Get_fdot_band(nudot)\n",
    "fdot_band = fdot_max - fdot_min\n",
    "\n",
    "fddot_min, fddot_max = Get_fddot_band(nuddot)\n",
    "fddot_band = fddot_max - fddot_min\n",
    "\n",
    "print('f band: ', f_min, f_max, 'delta f:', f_band)\n",
    "print('f dot band: ', fdot_min, fdot_max, 'delta fdot:', fdot_band)\n",
    "print('f ddot band: ', fddot_min, fddot_max, 'delta fddot:', fddot_band)\n",
    "\n",
    "print(nu*4/3)"
   ]
  },
  {
   "cell_type": "code",
   "execution_count": 38,
   "metadata": {},
   "outputs": [
    {
     "name": "stdout",
     "output_type": "stream",
     "text": [
      "[49.93456763]\n"
     ]
    }
   ],
   "source": [
    "# braking index\n",
    "n = nu*nuddot/nudot**2\n",
    "print(n)"
   ]
  }
 ],
 "metadata": {
  "kernelspec": {
   "display_name": "Python 3",
   "language": "python",
   "name": "python3"
  },
  "language_info": {
   "codemirror_mode": {
    "name": "ipython",
    "version": 3
   },
   "file_extension": ".py",
   "mimetype": "text/x-python",
   "name": "python",
   "nbconvert_exporter": "python",
   "pygments_lexer": "ipython3",
   "version": "3.8.10"
  }
 },
 "nbformat": 4,
 "nbformat_minor": 4
}
