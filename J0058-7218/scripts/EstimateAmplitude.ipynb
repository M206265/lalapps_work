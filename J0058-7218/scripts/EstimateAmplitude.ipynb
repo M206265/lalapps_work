{
 "cells": [
  {
   "cell_type": "code",
   "execution_count": 2,
   "metadata": {},
   "outputs": [],
   "source": [
    "from math import sin as sin\n",
    "from math import cos as cos\n",
    "from scipy.integrate import quad\n",
    "import math as mh\n",
    "import numpy as np\n",
    "import matplotlib.pyplot as plt\n",
    "ds = 86400\n",
    "mystery_factor = 7.408705e20 #technical coefficient\n",
    "SFT = 1800\n",
    "sqrtSh = 0.00751\n",
    "\n",
    "eps = 1e-5\n",
    "G = 6.674e-11\n",
    "c = 2.998e+8\n",
    "I = 1e+38"
   ]
  },
  {
   "cell_type": "code",
   "execution_count": 2,
   "metadata": {},
   "outputs": [],
   "source": [
    "def aFunc(gamma,lmbda,alpha,delta,phi_r,omega_r, t):\n",
    "    T = phi_r + omega_r*t\n",
    "    argument = alpha - T\n",
    "    a = 1/16 * sin(2*gamma) * (3 - cos(2*lmbda)) * (3 - cos(2*delta)) * cos(2*(argument)) \\\n",
    "        - 1/4 * cos(2*gamma) * sin(lmbda) * (3 - cos(2*delta)) * sin(2*(argument))\\\n",
    "        + 1/4 * sin(2*gamma) * sin(2*lmbda) * sin(2*delta) * cos(argument)\\\n",
    "        - 1/2 * cos(2*gamma) * cos(lmbda) * sin(2*delta) * sin(argument)\\\n",
    "        + 3/4 * sin(2*gamma) * (cos(lmbda))**2 * (cos(delta))**2\n",
    "    return(a)"
   ]
  },
  {
   "cell_type": "code",
   "execution_count": 3,
   "metadata": {},
   "outputs": [],
   "source": [
    "def bFunc(gamma,lmbda,alpha,delta,phi_r,omega_r, t):\n",
    "    T = phi_r + omega_r*t\n",
    "    argument = alpha - T\n",
    "    b = cos(2*gamma) * sin(lmbda) * sin(delta) * cos(2*(argument))\\\n",
    "        + 1/4 * sin(2*gamma) * (3 - cos(2*lmbda)) * sin(delta) * sin(2*(argument))\\\n",
    "        + cos(2*gamma) * cos(lmbda) * cos(delta) * cos(argument)\\\n",
    "        + 1/2 * sin(2*gamma) * sin(2*lmbda) * cos(delta) * sin(argument)\n",
    "    return(b)"
   ]
  },
  {
   "cell_type": "code",
   "execution_count": null,
   "metadata": {},
   "outputs": [],
   "source": [
    "def h0Func(d_kpc, f_gw):\n",
    "    return(4*np.pi**2*G*Izz*f_gw**2*eps/d_kpc/3.09e+19/c**4) # 3.09e+19 m in kpc\n",
    "\n",
    "def F_plus(dzeta, psi, gamma,lmbda,alpha,delta,phi_r,omega_r, t):\n",
    "    return(sin(dzeta)*("
   ]
  }
 ],
 "metadata": {
  "kernelspec": {
   "display_name": "Python 3",
   "language": "python",
   "name": "python3"
  },
  "language_info": {
   "codemirror_mode": {
    "name": "ipython",
    "version": 3
   },
   "file_extension": ".py",
   "mimetype": "text/x-python",
   "name": "python",
   "nbconvert_exporter": "python",
   "pygments_lexer": "ipython3",
   "version": "3.8.10"
  }
 },
 "nbformat": 4,
 "nbformat_minor": 4
}
