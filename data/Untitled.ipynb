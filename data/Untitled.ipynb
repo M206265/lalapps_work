{
 "cells": [
  {
   "cell_type": "code",
   "execution_count": 1,
   "metadata": {},
   "outputs": [],
   "source": [
    "import os\n",
    "import numpy as np"
   ]
  },
  {
   "cell_type": "code",
   "execution_count": 2,
   "metadata": {},
   "outputs": [],
   "source": [
    "obj = 'Crab'\n",
    "\n",
    "path_objData = '/home/m206265/lalapps_work/data/'+obj+'Data.dat'\n"
   ]
  },
  {
   "cell_type": "code",
   "execution_count": 35,
   "metadata": {},
   "outputs": [
    {
     "data": {
      "text/plain": [
       "array([[b'Alpha', b'1.45968'],\n",
       "       [b'Delta', b'0.38422'],\n",
       "       [b'Freq', b'59.893846'],\n",
       "       [b'f1dot', b'-3.77535E-10'],\n",
       "       [b'f2dot', b'1.1147E-20'],\n",
       "       [b'h0', b'6.907181341031563e-05'],\n",
       "       [b'cosi', b'0.5'],\n",
       "       [b'psi', b'0.6108652381980153'],\n",
       "       [b'phi0', b'0']], dtype='|S100')"
      ]
     },
     "execution_count": 35,
     "metadata": {},
     "output_type": "execute_result"
    }
   ],
   "source": [
    "np.genfromtxt(path_objData, dtype =('S100', 'S100'), delimiter = '=' )"
   ]
  },
  {
   "cell_type": "code",
   "execution_count": 57,
   "metadata": {},
   "outputs": [
    {
     "name": "stdout",
     "output_type": "stream",
     "text": [
      "59.829846 0.114\n"
     ]
    }
   ],
   "source": [
    "finj = 59.893846\n",
    "#finj = 85.987\n",
    "fmin = finj - 0.014 - 0.05\n",
    "fBand = 0.014 + 0.1\n",
    "print(fmin, fBand)"
   ]
  },
  {
   "cell_type": "code",
   "execution_count": 52,
   "metadata": {},
   "outputs": [
    {
     "ename": "TypeError",
     "evalue": "can only concatenate str (not \"numpy.bytes_\") to str",
     "output_type": "error",
     "traceback": [
      "\u001b[0;31m---------------------------------------------------------------------------\u001b[0m",
      "\u001b[0;31mTypeError\u001b[0m                                 Traceback (most recent call last)",
      "\u001b[0;32m<ipython-input-53-5cdc597c6872>\u001b[0m in \u001b[0;36m<module>\u001b[0;34m\u001b[0m\n\u001b[1;32m      3\u001b[0m \u001b[0;34m\u001b[0m\u001b[0m\n\u001b[1;32m      4\u001b[0m \u001b[0mcmd\u001b[0m \u001b[0;34m=\u001b[0m \u001b[0;34m'lalapps_ComputeAntennaPattern'\u001b[0m\u001b[0;34m\u001b[0m\u001b[0;34m\u001b[0m\u001b[0m\n\u001b[0;32m----> 5\u001b[0;31m \u001b[0mcmd\u001b[0m \u001b[0;34m+=\u001b[0m \u001b[0;34m'-a '\u001b[0m\u001b[0;34m+\u001b[0m\u001b[0mdelta\u001b[0m\u001b[0;34m\u001b[0m\u001b[0;34m\u001b[0m\u001b[0m\n\u001b[0m\u001b[1;32m      6\u001b[0m \u001b[0mprint\u001b[0m\u001b[0;34m(\u001b[0m\u001b[0mcmd\u001b[0m\u001b[0;34m)\u001b[0m\u001b[0;34m\u001b[0m\u001b[0;34m\u001b[0m\u001b[0m\n",
      "\u001b[0;31mTypeError\u001b[0m: can only concatenate str (not \"numpy.bytes_\") to str"
     ]
    }
   ],
   "source": [
    "alpha = np.genfromtxt(path_objData, delimiter = '=' )[0][1]\n",
    "delta = np.genfromtxt(path_objData, dtype =('S100', 'S100'), delimiter = '=' )[1][1]\n",
    "\n",
    "cmd = 'lalapps_ComputeAntennaPattern'\n",
    "cmd += '-a '\n",
    "print(cmd)"
   ]
  },
  {
   "cell_type": "code",
   "execution_count": null,
   "metadata": {},
   "outputs": [],
   "source": []
  }
 ],
 "metadata": {
  "kernelspec": {
   "display_name": "Python 3",
   "language": "python",
   "name": "python3"
  },
  "language_info": {
   "codemirror_mode": {
    "name": "ipython",
    "version": 3
   },
   "file_extension": ".py",
   "mimetype": "text/x-python",
   "name": "python",
   "nbconvert_exporter": "python",
   "pygments_lexer": "ipython3",
   "version": "3.8.10"
  }
 },
 "nbformat": 4,
 "nbformat_minor": 4
}
